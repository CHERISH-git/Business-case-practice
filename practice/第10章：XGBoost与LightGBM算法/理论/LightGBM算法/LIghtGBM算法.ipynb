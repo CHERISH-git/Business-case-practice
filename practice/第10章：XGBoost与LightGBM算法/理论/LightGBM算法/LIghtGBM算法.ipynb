{
 "cells": [
  {
   "cell_type": "markdown",
   "id": "158a9dbe",
   "metadata": {},
   "source": [
    "# LIghtGBM分类模型"
   ]
  },
  {
   "cell_type": "code",
   "execution_count": 1,
   "id": "a57c7431",
   "metadata": {},
   "outputs": [
    {
     "name": "stdout",
     "output_type": "stream",
     "text": [
      "[0]\n"
     ]
    }
   ],
   "source": [
    "from lightgbm import LGBMClassifier\n",
    "\n",
    "X = [[1, 2], [3, 4], [5, 6], [7, 8], [9, 10]]\n",
    "y = [0, 0, 0, 1, 1]\n",
    "\n",
    "model = LGBMClassifier()\n",
    "model.fit(X, y)\n",
    "\n",
    "print(model.predict([[5, 5]]))"
   ]
  },
  {
   "cell_type": "markdown",
   "id": "fee59558",
   "metadata": {},
   "source": [
    "# LightGBM回归模型"
   ]
  },
  {
   "cell_type": "code",
   "execution_count": 2,
   "id": "d532a68b",
   "metadata": {},
   "outputs": [
    {
     "name": "stdout",
     "output_type": "stream",
     "text": [
      "[3.]\n"
     ]
    }
   ],
   "source": [
    "from lightgbm import LGBMRegressor\n",
    "X = [[1, 2], [3, 4], [5, 6], [7, 8], [9, 10]]\n",
    "y = [1, 2, 3, 4, 5]\n",
    "\n",
    "model = LGBMRegressor()\n",
    "model.fit(X, y)\n",
    "\n",
    "print(model.predict([[5, 5]]))"
   ]
  },
  {
   "cell_type": "code",
   "execution_count": null,
   "id": "4ccfcead",
   "metadata": {},
   "outputs": [],
   "source": []
  }
 ],
 "metadata": {
  "kernelspec": {
   "display_name": "Python [conda env:shangyeanlishizhan]",
   "language": "python",
   "name": "conda-env-shangyeanlishizhan-py"
  },
  "language_info": {
   "codemirror_mode": {
    "name": "ipython",
    "version": 3
   },
   "file_extension": ".py",
   "mimetype": "text/x-python",
   "name": "python",
   "nbconvert_exporter": "python",
   "pygments_lexer": "ipython3",
   "version": "3.7.13"
  }
 },
 "nbformat": 4,
 "nbformat_minor": 5
}

{
 "cells": [
  {
   "cell_type": "markdown",
   "id": "c332df22",
   "metadata": {},
   "source": [
    "# XGBoost分类模型"
   ]
  },
  {
   "cell_type": "code",
   "execution_count": 1,
   "id": "33314b92",
   "metadata": {},
   "outputs": [
    {
     "name": "stdout",
     "output_type": "stream",
     "text": [
      "[0]\n"
     ]
    }
   ],
   "source": [
    "from xgboost import XGBClassifier\n",
    "import numpy as np\n",
    "\n",
    "X = np.array([[1, 2], [3, 4], [5, 6], [7, 8], [9, 10]])\n",
    "y = [0, 0, 0, 1, 1]\n",
    "\n",
    "model = XGBClassifier()\n",
    "model.fit(X, y)\n",
    "\n",
    "print(model.predict(np.array([[5, 5]])))"
   ]
  },
  {
   "cell_type": "markdown",
   "id": "e85d6ed5",
   "metadata": {},
   "source": [
    "# XGBoost回归模型"
   ]
  },
  {
   "cell_type": "code",
   "execution_count": 2,
   "id": "41345e4d",
   "metadata": {},
   "outputs": [
    {
     "name": "stdout",
     "output_type": "stream",
     "text": [
      "[3.0000014]\n"
     ]
    }
   ],
   "source": [
    "from xgboost import XGBRegressor\n",
    "import numpy as np\n",
    "\n",
    "X = np.array([[1, 2], [3, 4], [5, 6], [7, 8], [9, 10]])\n",
    "y = [1, 2, 3, 4, 5]\n",
    "\n",
    "model = XGBRegressor()\n",
    "model.fit(X, y)\n",
    "\n",
    "print(model.predict(np.array([[5, 5]])))"
   ]
  },
  {
   "cell_type": "code",
   "execution_count": null,
   "id": "8228661e",
   "metadata": {},
   "outputs": [],
   "source": []
  }
 ],
 "metadata": {
  "kernelspec": {
   "display_name": "Python [conda env:shangyeanlishizhan]",
   "language": "python",
   "name": "conda-env-shangyeanlishizhan-py"
  },
  "language_info": {
   "codemirror_mode": {
    "name": "ipython",
    "version": 3
   },
   "file_extension": ".py",
   "mimetype": "text/x-python",
   "name": "python",
   "nbconvert_exporter": "python",
   "pygments_lexer": "ipython3",
   "version": "3.7.13"
  }
 },
 "nbformat": 4,
 "nbformat_minor": 5
}

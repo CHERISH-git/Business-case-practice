{
 "cells": [
  {
   "cell_type": "markdown",
   "id": "3ba9b5c2",
   "metadata": {},
   "source": [
    "# 人脸数据读取、处理与变量提取"
   ]
  },
  {
   "cell_type": "markdown",
   "id": "ebc18a27",
   "metadata": {},
   "source": [
    "### 读取人脸照片数据"
   ]
  },
  {
   "cell_type": "code",
   "execution_count": 1,
   "id": "2be4dc78",
   "metadata": {},
   "outputs": [
    {
     "data": {
      "text/plain": [
       "['10_0.jpg', '10_1.jpg', '10_2.jpg', '10_3.jpg', '10_4.jpg']"
      ]
     },
     "execution_count": 1,
     "metadata": {},
     "output_type": "execute_result"
    }
   ],
   "source": [
    "import os\n",
    "names = os.listdir('olivettifaces')\n",
    "\n",
    "names[0:5] "
   ]
  },
  {
   "cell_type": "code",
   "execution_count": 2,
   "id": "78bbe545",
   "metadata": {},
   "outputs": [],
   "source": [
    "from PIL import Image\n",
    "img0 = Image.open('olivettifaces\\\\' + names[0])\n",
    "img0.show()"
   ]
  },
  {
   "cell_type": "markdown",
   "id": "73de2616",
   "metadata": {},
   "source": [
    "### 人脸数据处理 - 特征变量提取"
   ]
  },
  {
   "cell_type": "code",
   "execution_count": 3,
   "id": "19135d1f",
   "metadata": {},
   "outputs": [],
   "source": [
    "import numpy as np\n",
    "X = []\n",
    "for i in names:\n",
    "    img = Image.open('olivettifaces\\\\' + i)\n",
    "    img = img.convert('L')\n",
    "    img = img.resize((32, 32))\n",
    "    arr = np.array(img)\n",
    "    X.append(arr.reshape(1, -1).flatten().tolist())"
   ]
  },
  {
   "cell_type": "code",
   "execution_count": 4,
   "id": "1371440e",
   "metadata": {},
   "outputs": [
    {
     "data": {
      "text/html": [
       "<div>\n",
       "<style scoped>\n",
       "    .dataframe tbody tr th:only-of-type {\n",
       "        vertical-align: middle;\n",
       "    }\n",
       "\n",
       "    .dataframe tbody tr th {\n",
       "        vertical-align: top;\n",
       "    }\n",
       "\n",
       "    .dataframe thead th {\n",
       "        text-align: right;\n",
       "    }\n",
       "</style>\n",
       "<table border=\"1\" class=\"dataframe\">\n",
       "  <thead>\n",
       "    <tr style=\"text-align: right;\">\n",
       "      <th></th>\n",
       "      <th>0</th>\n",
       "      <th>1</th>\n",
       "      <th>2</th>\n",
       "      <th>3</th>\n",
       "      <th>4</th>\n",
       "      <th>5</th>\n",
       "      <th>6</th>\n",
       "      <th>7</th>\n",
       "      <th>8</th>\n",
       "      <th>9</th>\n",
       "      <th>...</th>\n",
       "      <th>1014</th>\n",
       "      <th>1015</th>\n",
       "      <th>1016</th>\n",
       "      <th>1017</th>\n",
       "      <th>1018</th>\n",
       "      <th>1019</th>\n",
       "      <th>1020</th>\n",
       "      <th>1021</th>\n",
       "      <th>1022</th>\n",
       "      <th>1023</th>\n",
       "    </tr>\n",
       "  </thead>\n",
       "  <tbody>\n",
       "    <tr>\n",
       "      <th>0</th>\n",
       "      <td>186</td>\n",
       "      <td>76</td>\n",
       "      <td>73</td>\n",
       "      <td>87</td>\n",
       "      <td>89</td>\n",
       "      <td>88</td>\n",
       "      <td>75</td>\n",
       "      <td>81</td>\n",
       "      <td>100</td>\n",
       "      <td>102</td>\n",
       "      <td>...</td>\n",
       "      <td>179</td>\n",
       "      <td>184</td>\n",
       "      <td>177</td>\n",
       "      <td>161</td>\n",
       "      <td>202</td>\n",
       "      <td>182</td>\n",
       "      <td>207</td>\n",
       "      <td>198</td>\n",
       "      <td>202</td>\n",
       "      <td>206</td>\n",
       "    </tr>\n",
       "    <tr>\n",
       "      <th>1</th>\n",
       "      <td>196</td>\n",
       "      <td>90</td>\n",
       "      <td>97</td>\n",
       "      <td>98</td>\n",
       "      <td>98</td>\n",
       "      <td>87</td>\n",
       "      <td>101</td>\n",
       "      <td>89</td>\n",
       "      <td>65</td>\n",
       "      <td>73</td>\n",
       "      <td>...</td>\n",
       "      <td>181</td>\n",
       "      <td>167</td>\n",
       "      <td>190</td>\n",
       "      <td>188</td>\n",
       "      <td>203</td>\n",
       "      <td>209</td>\n",
       "      <td>205</td>\n",
       "      <td>198</td>\n",
       "      <td>190</td>\n",
       "      <td>190</td>\n",
       "    </tr>\n",
       "    <tr>\n",
       "      <th>2</th>\n",
       "      <td>193</td>\n",
       "      <td>89</td>\n",
       "      <td>97</td>\n",
       "      <td>99</td>\n",
       "      <td>75</td>\n",
       "      <td>74</td>\n",
       "      <td>83</td>\n",
       "      <td>64</td>\n",
       "      <td>77</td>\n",
       "      <td>86</td>\n",
       "      <td>...</td>\n",
       "      <td>178</td>\n",
       "      <td>178</td>\n",
       "      <td>156</td>\n",
       "      <td>185</td>\n",
       "      <td>195</td>\n",
       "      <td>201</td>\n",
       "      <td>206</td>\n",
       "      <td>201</td>\n",
       "      <td>189</td>\n",
       "      <td>190</td>\n",
       "    </tr>\n",
       "    <tr>\n",
       "      <th>3</th>\n",
       "      <td>192</td>\n",
       "      <td>84</td>\n",
       "      <td>93</td>\n",
       "      <td>89</td>\n",
       "      <td>97</td>\n",
       "      <td>89</td>\n",
       "      <td>66</td>\n",
       "      <td>60</td>\n",
       "      <td>60</td>\n",
       "      <td>57</td>\n",
       "      <td>...</td>\n",
       "      <td>173</td>\n",
       "      <td>151</td>\n",
       "      <td>199</td>\n",
       "      <td>189</td>\n",
       "      <td>203</td>\n",
       "      <td>200</td>\n",
       "      <td>196</td>\n",
       "      <td>186</td>\n",
       "      <td>182</td>\n",
       "      <td>184</td>\n",
       "    </tr>\n",
       "    <tr>\n",
       "      <th>4</th>\n",
       "      <td>194</td>\n",
       "      <td>72</td>\n",
       "      <td>49</td>\n",
       "      <td>45</td>\n",
       "      <td>56</td>\n",
       "      <td>37</td>\n",
       "      <td>44</td>\n",
       "      <td>62</td>\n",
       "      <td>71</td>\n",
       "      <td>71</td>\n",
       "      <td>...</td>\n",
       "      <td>192</td>\n",
       "      <td>194</td>\n",
       "      <td>192</td>\n",
       "      <td>176</td>\n",
       "      <td>174</td>\n",
       "      <td>224</td>\n",
       "      <td>200</td>\n",
       "      <td>218</td>\n",
       "      <td>176</td>\n",
       "      <td>168</td>\n",
       "    </tr>\n",
       "    <tr>\n",
       "      <th>...</th>\n",
       "      <td>...</td>\n",
       "      <td>...</td>\n",
       "      <td>...</td>\n",
       "      <td>...</td>\n",
       "      <td>...</td>\n",
       "      <td>...</td>\n",
       "      <td>...</td>\n",
       "      <td>...</td>\n",
       "      <td>...</td>\n",
       "      <td>...</td>\n",
       "      <td>...</td>\n",
       "      <td>...</td>\n",
       "      <td>...</td>\n",
       "      <td>...</td>\n",
       "      <td>...</td>\n",
       "      <td>...</td>\n",
       "      <td>...</td>\n",
       "      <td>...</td>\n",
       "      <td>...</td>\n",
       "      <td>...</td>\n",
       "      <td>...</td>\n",
       "    </tr>\n",
       "    <tr>\n",
       "      <th>395</th>\n",
       "      <td>114</td>\n",
       "      <td>115</td>\n",
       "      <td>115</td>\n",
       "      <td>119</td>\n",
       "      <td>115</td>\n",
       "      <td>120</td>\n",
       "      <td>117</td>\n",
       "      <td>118</td>\n",
       "      <td>113</td>\n",
       "      <td>112</td>\n",
       "      <td>...</td>\n",
       "      <td>190</td>\n",
       "      <td>193</td>\n",
       "      <td>169</td>\n",
       "      <td>141</td>\n",
       "      <td>142</td>\n",
       "      <td>144</td>\n",
       "      <td>143</td>\n",
       "      <td>141</td>\n",
       "      <td>143</td>\n",
       "      <td>215</td>\n",
       "    </tr>\n",
       "    <tr>\n",
       "      <th>396</th>\n",
       "      <td>115</td>\n",
       "      <td>118</td>\n",
       "      <td>117</td>\n",
       "      <td>117</td>\n",
       "      <td>116</td>\n",
       "      <td>118</td>\n",
       "      <td>117</td>\n",
       "      <td>119</td>\n",
       "      <td>117</td>\n",
       "      <td>116</td>\n",
       "      <td>...</td>\n",
       "      <td>187</td>\n",
       "      <td>189</td>\n",
       "      <td>183</td>\n",
       "      <td>216</td>\n",
       "      <td>189</td>\n",
       "      <td>193</td>\n",
       "      <td>148</td>\n",
       "      <td>144</td>\n",
       "      <td>142</td>\n",
       "      <td>212</td>\n",
       "    </tr>\n",
       "    <tr>\n",
       "      <th>397</th>\n",
       "      <td>113</td>\n",
       "      <td>116</td>\n",
       "      <td>113</td>\n",
       "      <td>117</td>\n",
       "      <td>114</td>\n",
       "      <td>121</td>\n",
       "      <td>121</td>\n",
       "      <td>120</td>\n",
       "      <td>121</td>\n",
       "      <td>114</td>\n",
       "      <td>...</td>\n",
       "      <td>184</td>\n",
       "      <td>188</td>\n",
       "      <td>185</td>\n",
       "      <td>221</td>\n",
       "      <td>203</td>\n",
       "      <td>192</td>\n",
       "      <td>144</td>\n",
       "      <td>143</td>\n",
       "      <td>137</td>\n",
       "      <td>212</td>\n",
       "    </tr>\n",
       "    <tr>\n",
       "      <th>398</th>\n",
       "      <td>110</td>\n",
       "      <td>109</td>\n",
       "      <td>109</td>\n",
       "      <td>110</td>\n",
       "      <td>110</td>\n",
       "      <td>112</td>\n",
       "      <td>112</td>\n",
       "      <td>113</td>\n",
       "      <td>113</td>\n",
       "      <td>111</td>\n",
       "      <td>...</td>\n",
       "      <td>172</td>\n",
       "      <td>171</td>\n",
       "      <td>209</td>\n",
       "      <td>212</td>\n",
       "      <td>175</td>\n",
       "      <td>136</td>\n",
       "      <td>142</td>\n",
       "      <td>141</td>\n",
       "      <td>137</td>\n",
       "      <td>213</td>\n",
       "    </tr>\n",
       "    <tr>\n",
       "      <th>399</th>\n",
       "      <td>105</td>\n",
       "      <td>107</td>\n",
       "      <td>111</td>\n",
       "      <td>112</td>\n",
       "      <td>113</td>\n",
       "      <td>113</td>\n",
       "      <td>113</td>\n",
       "      <td>116</td>\n",
       "      <td>116</td>\n",
       "      <td>107</td>\n",
       "      <td>...</td>\n",
       "      <td>181</td>\n",
       "      <td>184</td>\n",
       "      <td>220</td>\n",
       "      <td>188</td>\n",
       "      <td>140</td>\n",
       "      <td>139</td>\n",
       "      <td>142</td>\n",
       "      <td>141</td>\n",
       "      <td>138</td>\n",
       "      <td>213</td>\n",
       "    </tr>\n",
       "  </tbody>\n",
       "</table>\n",
       "<p>400 rows × 1024 columns</p>\n",
       "</div>"
      ],
      "text/plain": [
       "     0     1     2     3     4     5     6     7     8     9     ...  1014  \\\n",
       "0     186    76    73    87    89    88    75    81   100   102  ...   179   \n",
       "1     196    90    97    98    98    87   101    89    65    73  ...   181   \n",
       "2     193    89    97    99    75    74    83    64    77    86  ...   178   \n",
       "3     192    84    93    89    97    89    66    60    60    57  ...   173   \n",
       "4     194    72    49    45    56    37    44    62    71    71  ...   192   \n",
       "..    ...   ...   ...   ...   ...   ...   ...   ...   ...   ...  ...   ...   \n",
       "395   114   115   115   119   115   120   117   118   113   112  ...   190   \n",
       "396   115   118   117   117   116   118   117   119   117   116  ...   187   \n",
       "397   113   116   113   117   114   121   121   120   121   114  ...   184   \n",
       "398   110   109   109   110   110   112   112   113   113   111  ...   172   \n",
       "399   105   107   111   112   113   113   113   116   116   107  ...   181   \n",
       "\n",
       "     1015  1016  1017  1018  1019  1020  1021  1022  1023  \n",
       "0     184   177   161   202   182   207   198   202   206  \n",
       "1     167   190   188   203   209   205   198   190   190  \n",
       "2     178   156   185   195   201   206   201   189   190  \n",
       "3     151   199   189   203   200   196   186   182   184  \n",
       "4     194   192   176   174   224   200   218   176   168  \n",
       "..    ...   ...   ...   ...   ...   ...   ...   ...   ...  \n",
       "395   193   169   141   142   144   143   141   143   215  \n",
       "396   189   183   216   189   193   148   144   142   212  \n",
       "397   188   185   221   203   192   144   143   137   212  \n",
       "398   171   209   212   175   136   142   141   137   213  \n",
       "399   184   220   188   140   139   142   141   138   213  \n",
       "\n",
       "[400 rows x 1024 columns]"
      ]
     },
     "execution_count": 4,
     "metadata": {},
     "output_type": "execute_result"
    }
   ],
   "source": [
    "import pandas as pd\n",
    "X = pd.DataFrame(X)\n",
    "X "
   ]
  },
  {
   "cell_type": "markdown",
   "id": "4facbdff",
   "metadata": {},
   "source": [
    "### 人脸数据处理 - 目标变量提取"
   ]
  },
  {
   "cell_type": "code",
   "execution_count": 5,
   "id": "cea7c71f",
   "metadata": {},
   "outputs": [
    {
     "data": {
      "text/plain": [
       "400"
      ]
     },
     "execution_count": 5,
     "metadata": {},
     "output_type": "execute_result"
    }
   ],
   "source": [
    "y = [] \n",
    "for i in names:\n",
    "    y.append(int(i.split('_')[0]))\n",
    "len(y)"
   ]
  },
  {
   "cell_type": "markdown",
   "id": "5ca785e0",
   "metadata": {},
   "source": [
    "# 数据划分与降维"
   ]
  },
  {
   "cell_type": "markdown",
   "id": "ae08b1ad",
   "metadata": {},
   "source": [
    "### 划分训练集和测试集"
   ]
  },
  {
   "cell_type": "code",
   "execution_count": 6,
   "id": "040cdf7c",
   "metadata": {},
   "outputs": [],
   "source": [
    "from sklearn.model_selection import train_test_split\n",
    "X_train, X_test, y_train, y_test = train_test_split(X, y, test_size=0.2, random_state=1)"
   ]
  },
  {
   "cell_type": "markdown",
   "id": "51d6a8f7",
   "metadata": {},
   "source": [
    "### 数据降维模型训练"
   ]
  },
  {
   "cell_type": "code",
   "execution_count": 7,
   "id": "5c93b4c2",
   "metadata": {},
   "outputs": [
    {
     "data": {
      "text/plain": [
       "PCA(n_components=100)"
      ]
     },
     "execution_count": 7,
     "metadata": {},
     "output_type": "execute_result"
    }
   ],
   "source": [
    "from sklearn.decomposition import PCA\n",
    "pca = PCA(n_components=100)\n",
    "pca.fit(X_train)"
   ]
  },
  {
   "cell_type": "markdown",
   "id": "ea6e98b8",
   "metadata": {},
   "source": [
    "### 对训练集和测试集进行数据降维"
   ]
  },
  {
   "cell_type": "code",
   "execution_count": 8,
   "id": "5900e181",
   "metadata": {},
   "outputs": [],
   "source": [
    "X_train_pca = pca.transform(X_train)\n",
    "X_test_pca = pca.transform(X_test)"
   ]
  },
  {
   "cell_type": "markdown",
   "id": "0b418ffd",
   "metadata": {},
   "source": [
    "### 验证PCA是否降维"
   ]
  },
  {
   "cell_type": "code",
   "execution_count": 9,
   "id": "cc7174ca",
   "metadata": {},
   "outputs": [
    {
     "name": "stdout",
     "output_type": "stream",
     "text": [
      "(320, 100)\n",
      "(80, 100)\n"
     ]
    }
   ],
   "source": [
    "print(X_train_pca.shape)\n",
    "print(X_test_pca.shape)"
   ]
  },
  {
   "cell_type": "markdown",
   "id": "87871543",
   "metadata": {},
   "source": [
    "# 模型的搭建与使用"
   ]
  },
  {
   "cell_type": "markdown",
   "id": "504e5ca5",
   "metadata": {},
   "source": [
    "### 模型搭建"
   ]
  },
  {
   "cell_type": "code",
   "execution_count": 10,
   "id": "3e1307f9",
   "metadata": {},
   "outputs": [
    {
     "data": {
      "text/plain": [
       "KNeighborsClassifier()"
      ]
     },
     "execution_count": 10,
     "metadata": {},
     "output_type": "execute_result"
    }
   ],
   "source": [
    "from sklearn.neighbors import KNeighborsClassifier\n",
    "knn = KNeighborsClassifier()\n",
    "knn.fit(X_train_pca, y_train)"
   ]
  },
  {
   "cell_type": "markdown",
   "id": "572682c9",
   "metadata": {},
   "source": [
    "### 模型预测"
   ]
  },
  {
   "cell_type": "code",
   "execution_count": 11,
   "id": "e018eb59",
   "metadata": {},
   "outputs": [
    {
     "name": "stdout",
     "output_type": "stream",
     "text": [
      "[ 9 21  3 40 26  4 28 37 12 36 26  7 27 21  3 24  7  2 17 24 21 32  8  2\n",
      " 11 19  6 29  6 29 18 10 25 35 10 18 15  5  9 22 34 29  2 16  8 18  8 38\n",
      " 39 35 16 30 30 11 37 36 35 20 33  6  1 16 31 32  5 30  1 39 35 39  2 19\n",
      "  5  8 11  4 14 27 22 24]\n"
     ]
    }
   ],
   "source": [
    "y_pred = knn.predict(X_test_pca) \n",
    "print(y_pred)"
   ]
  },
  {
   "cell_type": "code",
   "execution_count": 12,
   "id": "171c708b",
   "metadata": {},
   "outputs": [
    {
     "data": {
      "text/html": [
       "<div>\n",
       "<style scoped>\n",
       "    .dataframe tbody tr th:only-of-type {\n",
       "        vertical-align: middle;\n",
       "    }\n",
       "\n",
       "    .dataframe tbody tr th {\n",
       "        vertical-align: top;\n",
       "    }\n",
       "\n",
       "    .dataframe thead th {\n",
       "        text-align: right;\n",
       "    }\n",
       "</style>\n",
       "<table border=\"1\" class=\"dataframe\">\n",
       "  <thead>\n",
       "    <tr style=\"text-align: right;\">\n",
       "      <th></th>\n",
       "      <th>预测值</th>\n",
       "      <th>实际值</th>\n",
       "    </tr>\n",
       "  </thead>\n",
       "  <tbody>\n",
       "    <tr>\n",
       "      <th>0</th>\n",
       "      <td>9</td>\n",
       "      <td>9</td>\n",
       "    </tr>\n",
       "    <tr>\n",
       "      <th>1</th>\n",
       "      <td>21</td>\n",
       "      <td>21</td>\n",
       "    </tr>\n",
       "    <tr>\n",
       "      <th>2</th>\n",
       "      <td>3</td>\n",
       "      <td>3</td>\n",
       "    </tr>\n",
       "    <tr>\n",
       "      <th>3</th>\n",
       "      <td>40</td>\n",
       "      <td>40</td>\n",
       "    </tr>\n",
       "    <tr>\n",
       "      <th>4</th>\n",
       "      <td>26</td>\n",
       "      <td>26</td>\n",
       "    </tr>\n",
       "  </tbody>\n",
       "</table>\n",
       "</div>"
      ],
      "text/plain": [
       "   预测值  实际值\n",
       "0    9    9\n",
       "1   21   21\n",
       "2    3    3\n",
       "3   40   40\n",
       "4   26   26"
      ]
     },
     "execution_count": 12,
     "metadata": {},
     "output_type": "execute_result"
    }
   ],
   "source": [
    "import pandas as pd\n",
    "a = pd.DataFrame()\n",
    "a['预测值'] = list(y_pred)\n",
    "a['实际值'] = list(y_test)\n",
    "\n",
    "a.head()"
   ]
  },
  {
   "cell_type": "markdown",
   "id": "a24ad78f",
   "metadata": {},
   "source": [
    "### 查看预测准确度"
   ]
  },
  {
   "cell_type": "code",
   "execution_count": 13,
   "id": "d12394ef",
   "metadata": {},
   "outputs": [
    {
     "name": "stdout",
     "output_type": "stream",
     "text": [
      "0.9125\n"
     ]
    }
   ],
   "source": [
    "from sklearn.metrics import accuracy_score\n",
    "score = accuracy_score(y_pred, y_test)\n",
    "print(score)"
   ]
  },
  {
   "cell_type": "code",
   "execution_count": 14,
   "id": "64f179d9",
   "metadata": {},
   "outputs": [
    {
     "name": "stdout",
     "output_type": "stream",
     "text": [
      "0.9125\n"
     ]
    }
   ],
   "source": [
    "score = knn.score(X_test_pca, y_test)\n",
    "print(score)"
   ]
  },
  {
   "cell_type": "markdown",
   "id": "c348693a",
   "metadata": {},
   "source": [
    "# 模型对比"
   ]
  },
  {
   "cell_type": "code",
   "execution_count": 15,
   "id": "4df0b358",
   "metadata": {},
   "outputs": [
    {
     "name": "stdout",
     "output_type": "stream",
     "text": [
      "0.9125\n"
     ]
    }
   ],
   "source": [
    "from sklearn.neighbors import KNeighborsClassifier\n",
    "knn = KNeighborsClassifier()\n",
    "knn.fit(X_train, y_train) \n",
    "y_pred = knn.predict(X_test)\n",
    "\n",
    "from sklearn.metrics import accuracy_score\n",
    "score = accuracy_score(y_pred, y_test)\n",
    "print(score)"
   ]
  }
 ],
 "metadata": {
  "kernelspec": {
   "display_name": "Python [conda env:shangyeanlishizhan]",
   "language": "python",
   "name": "conda-env-shangyeanlishizhan-py"
  },
  "language_info": {
   "codemirror_mode": {
    "name": "ipython",
    "version": 3
   },
   "file_extension": ".py",
   "mimetype": "text/x-python",
   "name": "python",
   "nbconvert_exporter": "python",
   "pygments_lexer": "ipython3",
   "version": "3.7.13"
  }
 },
 "nbformat": 4,
 "nbformat_minor": 5
}

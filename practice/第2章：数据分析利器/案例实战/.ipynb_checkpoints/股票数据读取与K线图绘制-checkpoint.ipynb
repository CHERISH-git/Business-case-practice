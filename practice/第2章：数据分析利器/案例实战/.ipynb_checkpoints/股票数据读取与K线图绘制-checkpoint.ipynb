{
 "cells": [
  {
   "cell_type": "markdown",
   "id": "ba6b466f",
   "metadata": {},
   "source": [
    "# 股票数据读取与可视化"
   ]
  },
  {
   "cell_type": "markdown",
   "id": "865b6e67",
   "metadata": {},
   "source": [
    "### 股票数据获取"
   ]
  },
  {
   "cell_type": "code",
   "execution_count": 1,
   "id": "3f69af1e",
   "metadata": {},
   "outputs": [
    {
     "name": "stdout",
     "output_type": "stream",
     "text": [
      "本接口即将停止更新，请尽快使用Pro版接口：https://tushare.pro/document/2\n"
     ]
    },
    {
     "data": {
      "text/html": [
       "<div>\n",
       "<style scoped>\n",
       "    .dataframe tbody tr th:only-of-type {\n",
       "        vertical-align: middle;\n",
       "    }\n",
       "\n",
       "    .dataframe tbody tr th {\n",
       "        vertical-align: top;\n",
       "    }\n",
       "\n",
       "    .dataframe thead th {\n",
       "        text-align: right;\n",
       "    }\n",
       "</style>\n",
       "<table border=\"1\" class=\"dataframe\">\n",
       "  <thead>\n",
       "    <tr style=\"text-align: right;\">\n",
       "      <th></th>\n",
       "      <th>date</th>\n",
       "      <th>open</th>\n",
       "      <th>close</th>\n",
       "      <th>high</th>\n",
       "      <th>low</th>\n",
       "      <th>volume</th>\n",
       "      <th>code</th>\n",
       "    </tr>\n",
       "  </thead>\n",
       "  <tbody>\n",
       "    <tr>\n",
       "      <th>0</th>\n",
       "      <td>2009-01-05</td>\n",
       "      <td>-0.582</td>\n",
       "      <td>-0.462</td>\n",
       "      <td>-0.462</td>\n",
       "      <td>-0.682</td>\n",
       "      <td>936048.88</td>\n",
       "      <td>000002</td>\n",
       "    </tr>\n",
       "    <tr>\n",
       "      <th>1</th>\n",
       "      <td>2009-01-06</td>\n",
       "      <td>-0.482</td>\n",
       "      <td>-0.262</td>\n",
       "      <td>-0.212</td>\n",
       "      <td>-0.552</td>\n",
       "      <td>1216831.18</td>\n",
       "      <td>000002</td>\n",
       "    </tr>\n",
       "    <tr>\n",
       "      <th>2</th>\n",
       "      <td>2009-01-07</td>\n",
       "      <td>-0.232</td>\n",
       "      <td>-0.302</td>\n",
       "      <td>-0.102</td>\n",
       "      <td>-0.302</td>\n",
       "      <td>834829.31</td>\n",
       "      <td>000002</td>\n",
       "    </tr>\n",
       "    <tr>\n",
       "      <th>3</th>\n",
       "      <td>2009-01-08</td>\n",
       "      <td>-0.412</td>\n",
       "      <td>-0.262</td>\n",
       "      <td>-0.162</td>\n",
       "      <td>-0.482</td>\n",
       "      <td>837661.70</td>\n",
       "      <td>000002</td>\n",
       "    </tr>\n",
       "    <tr>\n",
       "      <th>4</th>\n",
       "      <td>2009-01-09</td>\n",
       "      <td>-0.262</td>\n",
       "      <td>-0.272</td>\n",
       "      <td>-0.152</td>\n",
       "      <td>-0.352</td>\n",
       "      <td>626815.66</td>\n",
       "      <td>000002</td>\n",
       "    </tr>\n",
       "  </tbody>\n",
       "</table>\n",
       "</div>"
      ],
      "text/plain": [
       "         date   open  close   high    low      volume    code\n",
       "0  2009-01-05 -0.582 -0.462 -0.462 -0.682   936048.88  000002\n",
       "1  2009-01-06 -0.482 -0.262 -0.212 -0.552  1216831.18  000002\n",
       "2  2009-01-07 -0.232 -0.302 -0.102 -0.302   834829.31  000002\n",
       "3  2009-01-08 -0.412 -0.262 -0.162 -0.482   837661.70  000002\n",
       "4  2009-01-09 -0.262 -0.272 -0.152 -0.352   626815.66  000002"
      ]
     },
     "execution_count": 1,
     "metadata": {},
     "output_type": "execute_result"
    }
   ],
   "source": [
    "#获取股票基本数据\n",
    "import tushare as ts\n",
    "df = ts.get_k_data('000002', start='2009-01-01', end='2019-01-01')\n",
    "df.head()"
   ]
  },
  {
   "cell_type": "code",
   "execution_count": 2,
   "id": "166741e0",
   "metadata": {},
   "outputs": [],
   "source": [
    "# #将股票数据保存到Excel文件中，不保留原行索引\n",
    "# df.to_excel('股价数据.xlsx', index=False)"
   ]
  },
  {
   "cell_type": "markdown",
   "id": "591d7d84",
   "metadata": {},
   "source": [
    "### 绘制股价走势图"
   ]
  },
  {
   "cell_type": "code",
   "execution_count": 3,
   "id": "d44da645",
   "metadata": {},
   "outputs": [
    {
     "data": {
      "text/html": [
       "<div>\n",
       "<style scoped>\n",
       "    .dataframe tbody tr th:only-of-type {\n",
       "        vertical-align: middle;\n",
       "    }\n",
       "\n",
       "    .dataframe tbody tr th {\n",
       "        vertical-align: top;\n",
       "    }\n",
       "\n",
       "    .dataframe thead th {\n",
       "        text-align: right;\n",
       "    }\n",
       "</style>\n",
       "<table border=\"1\" class=\"dataframe\">\n",
       "  <thead>\n",
       "    <tr style=\"text-align: right;\">\n",
       "      <th></th>\n",
       "      <th>open</th>\n",
       "      <th>close</th>\n",
       "      <th>high</th>\n",
       "      <th>low</th>\n",
       "      <th>volume</th>\n",
       "      <th>code</th>\n",
       "    </tr>\n",
       "    <tr>\n",
       "      <th>date</th>\n",
       "      <th></th>\n",
       "      <th></th>\n",
       "      <th></th>\n",
       "      <th></th>\n",
       "      <th></th>\n",
       "      <th></th>\n",
       "    </tr>\n",
       "  </thead>\n",
       "  <tbody>\n",
       "    <tr>\n",
       "      <th>2009-01-05</th>\n",
       "      <td>-0.582</td>\n",
       "      <td>-0.462</td>\n",
       "      <td>-0.462</td>\n",
       "      <td>-0.682</td>\n",
       "      <td>936048.88</td>\n",
       "      <td>000002</td>\n",
       "    </tr>\n",
       "    <tr>\n",
       "      <th>2009-01-06</th>\n",
       "      <td>-0.482</td>\n",
       "      <td>-0.262</td>\n",
       "      <td>-0.212</td>\n",
       "      <td>-0.552</td>\n",
       "      <td>1216831.18</td>\n",
       "      <td>000002</td>\n",
       "    </tr>\n",
       "    <tr>\n",
       "      <th>2009-01-07</th>\n",
       "      <td>-0.232</td>\n",
       "      <td>-0.302</td>\n",
       "      <td>-0.102</td>\n",
       "      <td>-0.302</td>\n",
       "      <td>834829.31</td>\n",
       "      <td>000002</td>\n",
       "    </tr>\n",
       "    <tr>\n",
       "      <th>2009-01-08</th>\n",
       "      <td>-0.412</td>\n",
       "      <td>-0.262</td>\n",
       "      <td>-0.162</td>\n",
       "      <td>-0.482</td>\n",
       "      <td>837661.70</td>\n",
       "      <td>000002</td>\n",
       "    </tr>\n",
       "    <tr>\n",
       "      <th>2009-01-09</th>\n",
       "      <td>-0.262</td>\n",
       "      <td>-0.272</td>\n",
       "      <td>-0.152</td>\n",
       "      <td>-0.352</td>\n",
       "      <td>626815.66</td>\n",
       "      <td>000002</td>\n",
       "    </tr>\n",
       "  </tbody>\n",
       "</table>\n",
       "</div>"
      ],
      "text/plain": [
       "             open  close   high    low      volume    code\n",
       "date                                                      \n",
       "2009-01-05 -0.582 -0.462 -0.462 -0.682   936048.88  000002\n",
       "2009-01-06 -0.482 -0.262 -0.212 -0.552  1216831.18  000002\n",
       "2009-01-07 -0.232 -0.302 -0.102 -0.302   834829.31  000002\n",
       "2009-01-08 -0.412 -0.262 -0.162 -0.482   837661.70  000002\n",
       "2009-01-09 -0.262 -0.272 -0.152 -0.352   626815.66  000002"
      ]
     },
     "execution_count": 3,
     "metadata": {},
     "output_type": "execute_result"
    }
   ],
   "source": [
    "#将日期设置为行索引\n",
    "df.set_index('date', inplace=True)\n",
    "df.head()"
   ]
  },
  {
   "cell_type": "code",
   "execution_count": 4,
   "id": "aaf648dc",
   "metadata": {},
   "outputs": [
    {
     "data": {
      "text/plain": [
       "<AxesSubplot:title={'center':'万科股价走势图'}, xlabel='date'>"
      ]
     },
     "execution_count": 4,
     "metadata": {},
     "output_type": "execute_result"
    },
    {
     "data": {
      "image/png": "[encoded data removed]",
      "text/plain": [
       "<Figure size 432x288 with 1 Axes>"
      ]
     },
     "metadata": {
      "needs_background": "light"
     },
     "output_type": "display_data"
    }
   ],
   "source": [
    "#以收盘价绘制折线图,默认以行索引为横坐标\n",
    "import matplotlib.pyplot as plt\n",
    "plt.rcParams['font.sans-serif'] = ['SimHei']  # 用来正常显示中文标签\n",
    "df['close'].plot(title='万科股价走势图')    "
   ]
  },
  {
   "cell_type": "markdown",
   "id": "0b6eda7f",
   "metadata": {},
   "source": [
    "### 使用matplotlib绘图"
   ]
  },
  {
   "cell_type": "code",
   "execution_count": 5,
   "id": "333817c4",
   "metadata": {},
   "outputs": [],
   "source": [
    "# # 通过Tushare库获取股价数据\n",
    "# import tushare as ts\n",
    "# df = ts.get_k_data('000002', start='2009-01-01', end='2019-01-01')\n",
    "\n",
    "# # 要注意的细节：调整日期格式使得横坐标显示清晰\n",
    "# from datetime import datetime\n",
    "# df['date'] = df['date'].apply(lambda x:datetime.strptime(x,'%Y-%m-%d'))\n",
    "\n",
    "# # 绘制折线图\n",
    "# import matplotlib.pyplot as plt\n",
    "# plt.plot(df['date'], df['close'])\n",
    "# plt.show()"
   ]
  },
  {
   "cell_type": "markdown",
   "id": "385f08c2",
   "metadata": {},
   "source": [
    "# 股票K线图绘制"
   ]
  },
  {
   "cell_type": "code",
   "execution_count": 6,
   "id": "a829c437",
   "metadata": {},
   "outputs": [
    {
     "name": "stderr",
     "output_type": "stream",
     "text": [
      "C:\\Users\\CHERISH\\anaconda3\\envs\\shangyeanlishizhan\\lib\\site-packages\\mpl_finance.py:22: DeprecationWarning: \n",
      "\n",
      "  =================================================================\n",
      "\n",
      "   WARNING: `mpl_finance` is deprecated:\n",
      "\n",
      "    Please use `mplfinance` instead (no hyphen, no underscore).\n",
      "\n",
      "    To install: `pip install --upgrade mplfinance` \n",
      "\n",
      "   For more information, see: https://pypi.org/project/mplfinance/\n",
      "\n",
      "  =================================================================\n",
      "\n",
      "  category=DeprecationWarning)\n"
     ]
    }
   ],
   "source": [
    "import tushare as ts\n",
    "import matplotlib.pyplot as plt\n",
    "import mpl_finance as mpf\n",
    "import seaborn as sns\n",
    "sns.set()"
   ]
  },
  {
   "cell_type": "markdown",
   "id": "37470413",
   "metadata": {},
   "source": [
    "### 股票数据获取"
   ]
  },
  {
   "cell_type": "code",
   "execution_count": 7,
   "id": "4e88e5fd",
   "metadata": {},
   "outputs": [
    {
     "name": "stdout",
     "output_type": "stream",
     "text": [
      "本接口即将停止更新，请尽快使用Pro版接口：https://tushare.pro/document/2\n"
     ]
    },
    {
     "data": {
      "text/html": [
       "<div>\n",
       "<style scoped>\n",
       "    .dataframe tbody tr th:only-of-type {\n",
       "        vertical-align: middle;\n",
       "    }\n",
       "\n",
       "    .dataframe tbody tr th {\n",
       "        vertical-align: top;\n",
       "    }\n",
       "\n",
       "    .dataframe thead th {\n",
       "        text-align: right;\n",
       "    }\n",
       "</style>\n",
       "<table border=\"1\" class=\"dataframe\">\n",
       "  <thead>\n",
       "    <tr style=\"text-align: right;\">\n",
       "      <th></th>\n",
       "      <th>date</th>\n",
       "      <th>open</th>\n",
       "      <th>close</th>\n",
       "      <th>high</th>\n",
       "      <th>low</th>\n",
       "      <th>volume</th>\n",
       "      <th>code</th>\n",
       "    </tr>\n",
       "  </thead>\n",
       "  <tbody>\n",
       "    <tr>\n",
       "      <th>99</th>\n",
       "      <td>2019-06-03</td>\n",
       "      <td>23.498</td>\n",
       "      <td>23.128</td>\n",
       "      <td>23.708</td>\n",
       "      <td>22.968</td>\n",
       "      <td>317567.0</td>\n",
       "      <td>000002</td>\n",
       "    </tr>\n",
       "    <tr>\n",
       "      <th>100</th>\n",
       "      <td>2019-06-04</td>\n",
       "      <td>23.158</td>\n",
       "      <td>22.988</td>\n",
       "      <td>23.228</td>\n",
       "      <td>22.938</td>\n",
       "      <td>203260.0</td>\n",
       "      <td>000002</td>\n",
       "    </tr>\n",
       "    <tr>\n",
       "      <th>101</th>\n",
       "      <td>2019-06-05</td>\n",
       "      <td>23.328</td>\n",
       "      <td>23.718</td>\n",
       "      <td>23.968</td>\n",
       "      <td>23.318</td>\n",
       "      <td>576164.0</td>\n",
       "      <td>000002</td>\n",
       "    </tr>\n",
       "    <tr>\n",
       "      <th>102</th>\n",
       "      <td>2019-06-06</td>\n",
       "      <td>23.698</td>\n",
       "      <td>23.808</td>\n",
       "      <td>23.978</td>\n",
       "      <td>23.608</td>\n",
       "      <td>333792.0</td>\n",
       "      <td>000002</td>\n",
       "    </tr>\n",
       "    <tr>\n",
       "      <th>103</th>\n",
       "      <td>2019-06-10</td>\n",
       "      <td>23.978</td>\n",
       "      <td>24.498</td>\n",
       "      <td>24.738</td>\n",
       "      <td>23.858</td>\n",
       "      <td>527547.0</td>\n",
       "      <td>000002</td>\n",
       "    </tr>\n",
       "  </tbody>\n",
       "</table>\n",
       "</div>"
      ],
      "text/plain": [
       "           date    open   close    high     low    volume    code\n",
       "99   2019-06-03  23.498  23.128  23.708  22.968  317567.0  000002\n",
       "100  2019-06-04  23.158  22.988  23.228  22.938  203260.0  000002\n",
       "101  2019-06-05  23.328  23.718  23.968  23.318  576164.0  000002\n",
       "102  2019-06-06  23.698  23.808  23.978  23.608  333792.0  000002\n",
       "103  2019-06-10  23.978  24.498  24.738  23.858  527547.0  000002"
      ]
     },
     "execution_count": 7,
     "metadata": {},
     "output_type": "execute_result"
    }
   ],
   "source": [
    "#通过Tushare库获取股票基本数据\n",
    "df = ts.get_k_data('000002','2019-06-01', '2019-09-30')\n",
    "df.head()"
   ]
  },
  {
   "cell_type": "markdown",
   "id": "b67c20e2",
   "metadata": {},
   "source": [
    "### 日期格式调整及表格转换"
   ]
  },
  {
   "cell_type": "code",
   "execution_count": 8,
   "id": "cf5708ff",
   "metadata": {},
   "outputs": [
    {
     "data": {
      "text/plain": [
       "array([[18050.0, 23.498, 23.128, 23.708, 22.968, 317567.0, '000002'],\n",
       "       [18051.0, 23.158, 22.988, 23.228, 22.938, 203260.0, '000002'],\n",
       "       [18052.0, 23.328, 23.718, 23.968, 23.318, 576164.0, '000002'],\n",
       "       [18053.0, 23.698, 23.808, 23.978, 23.608, 333792.0, '000002'],\n",
       "       [18057.0, 23.978, 24.498, 24.738, 23.858, 527547.0, '000002']],\n",
       "      dtype=object)"
      ]
     },
     "execution_count": 8,
     "metadata": {},
     "output_type": "execute_result"
    }
   ],
   "source": [
    "from matplotlib.pylab import date2num\n",
    "import datetime\n",
    "\n",
    "# 对tushare获取到的日期数据转换成candlestick_ohlc()函数可读取的数字格式\n",
    "def date_to_num(dates):\n",
    "    num_time = []\n",
    "    for date in dates:\n",
    "        date_time = datetime.datetime.strptime(date,'%Y-%m-%d')\n",
    "        num_date = date2num(date_time)\n",
    "        num_time.append(num_date)\n",
    "    return num_time\n",
    "\n",
    "# 将DataFrame转换为二维数组，并利用date_to_num()函数转换日期\n",
    "df_arr = df.values  # 将DataFrame格式的数据，转换为array二维数组\n",
    "df_arr[:,0] = date_to_num(df_arr[:,0])\n",
    "\n",
    "df_arr[0:5]"
   ]
  },
  {
   "cell_type": "markdown",
   "id": "a586d71e",
   "metadata": {},
   "source": [
    "### 绘制K线图"
   ]
  },
  {
   "cell_type": "code",
   "execution_count": 9,
   "id": "a837a85d",
   "metadata": {},
   "outputs": [
    {
     "data": {
      "image/png": "[encoded data removed]",
      "text/plain": [
       "<Figure size 1080x432 with 1 Axes>"
      ]
     },
     "metadata": {},
     "output_type": "display_data"
    }
   ],
   "source": [
    "fig, ax = plt.subplots(figsize=(15,6))\n",
    "mpf.candlestick_ochl(ax, df_arr, width=0.6, colorup='r', colordown='g', alpha=1.0)\n",
    "plt.grid(True)  # 绘制网格\n",
    "ax.xaxis_date()  # 设置x轴的刻度为日期"
   ]
  },
  {
   "cell_type": "markdown",
   "id": "d06c2ed1",
   "metadata": {},
   "source": [
    "### 添加均线图"
   ]
  },
  {
   "cell_type": "code",
   "execution_count": 10,
   "id": "b7865b06",
   "metadata": {},
   "outputs": [
    {
     "data": {
      "text/html": [
       "<div>\n",
       "<style scoped>\n",
       "    .dataframe tbody tr th:only-of-type {\n",
       "        vertical-align: middle;\n",
       "    }\n",
       "\n",
       "    .dataframe tbody tr th {\n",
       "        vertical-align: top;\n",
       "    }\n",
       "\n",
       "    .dataframe thead th {\n",
       "        text-align: right;\n",
       "    }\n",
       "</style>\n",
       "<table border=\"1\" class=\"dataframe\">\n",
       "  <thead>\n",
       "    <tr style=\"text-align: right;\">\n",
       "      <th></th>\n",
       "      <th>date</th>\n",
       "      <th>open</th>\n",
       "      <th>close</th>\n",
       "      <th>high</th>\n",
       "      <th>low</th>\n",
       "      <th>volume</th>\n",
       "      <th>code</th>\n",
       "      <th>MA5</th>\n",
       "      <th>MA10</th>\n",
       "    </tr>\n",
       "  </thead>\n",
       "  <tbody>\n",
       "    <tr>\n",
       "      <th>99</th>\n",
       "      <td>2019-06-03</td>\n",
       "      <td>23.498</td>\n",
       "      <td>23.128</td>\n",
       "      <td>23.708</td>\n",
       "      <td>22.968</td>\n",
       "      <td>317567.0</td>\n",
       "      <td>000002</td>\n",
       "      <td>NaN</td>\n",
       "      <td>NaN</td>\n",
       "    </tr>\n",
       "    <tr>\n",
       "      <th>100</th>\n",
       "      <td>2019-06-04</td>\n",
       "      <td>23.158</td>\n",
       "      <td>22.988</td>\n",
       "      <td>23.228</td>\n",
       "      <td>22.938</td>\n",
       "      <td>203260.0</td>\n",
       "      <td>000002</td>\n",
       "      <td>NaN</td>\n",
       "      <td>NaN</td>\n",
       "    </tr>\n",
       "    <tr>\n",
       "      <th>101</th>\n",
       "      <td>2019-06-05</td>\n",
       "      <td>23.328</td>\n",
       "      <td>23.718</td>\n",
       "      <td>23.968</td>\n",
       "      <td>23.318</td>\n",
       "      <td>576164.0</td>\n",
       "      <td>000002</td>\n",
       "      <td>NaN</td>\n",
       "      <td>NaN</td>\n",
       "    </tr>\n",
       "    <tr>\n",
       "      <th>102</th>\n",
       "      <td>2019-06-06</td>\n",
       "      <td>23.698</td>\n",
       "      <td>23.808</td>\n",
       "      <td>23.978</td>\n",
       "      <td>23.608</td>\n",
       "      <td>333792.0</td>\n",
       "      <td>000002</td>\n",
       "      <td>NaN</td>\n",
       "      <td>NaN</td>\n",
       "    </tr>\n",
       "    <tr>\n",
       "      <th>103</th>\n",
       "      <td>2019-06-10</td>\n",
       "      <td>23.978</td>\n",
       "      <td>24.498</td>\n",
       "      <td>24.738</td>\n",
       "      <td>23.858</td>\n",
       "      <td>527547.0</td>\n",
       "      <td>000002</td>\n",
       "      <td>23.628</td>\n",
       "      <td>NaN</td>\n",
       "    </tr>\n",
       "    <tr>\n",
       "      <th>104</th>\n",
       "      <td>2019-06-11</td>\n",
       "      <td>24.558</td>\n",
       "      <td>25.018</td>\n",
       "      <td>25.138</td>\n",
       "      <td>24.538</td>\n",
       "      <td>449630.0</td>\n",
       "      <td>000002</td>\n",
       "      <td>24.006</td>\n",
       "      <td>NaN</td>\n",
       "    </tr>\n",
       "    <tr>\n",
       "      <th>105</th>\n",
       "      <td>2019-06-12</td>\n",
       "      <td>24.928</td>\n",
       "      <td>24.688</td>\n",
       "      <td>24.978</td>\n",
       "      <td>24.498</td>\n",
       "      <td>269372.0</td>\n",
       "      <td>000002</td>\n",
       "      <td>24.346</td>\n",
       "      <td>NaN</td>\n",
       "    </tr>\n",
       "    <tr>\n",
       "      <th>106</th>\n",
       "      <td>2019-06-13</td>\n",
       "      <td>24.688</td>\n",
       "      <td>24.518</td>\n",
       "      <td>24.738</td>\n",
       "      <td>24.268</td>\n",
       "      <td>250431.0</td>\n",
       "      <td>000002</td>\n",
       "      <td>24.506</td>\n",
       "      <td>NaN</td>\n",
       "    </tr>\n",
       "    <tr>\n",
       "      <th>107</th>\n",
       "      <td>2019-06-14</td>\n",
       "      <td>24.698</td>\n",
       "      <td>24.618</td>\n",
       "      <td>24.978</td>\n",
       "      <td>24.468</td>\n",
       "      <td>311417.0</td>\n",
       "      <td>000002</td>\n",
       "      <td>24.668</td>\n",
       "      <td>NaN</td>\n",
       "    </tr>\n",
       "    <tr>\n",
       "      <th>108</th>\n",
       "      <td>2019-06-17</td>\n",
       "      <td>24.488</td>\n",
       "      <td>24.598</td>\n",
       "      <td>24.888</td>\n",
       "      <td>24.438</td>\n",
       "      <td>171672.0</td>\n",
       "      <td>000002</td>\n",
       "      <td>24.688</td>\n",
       "      <td>24.158</td>\n",
       "    </tr>\n",
       "    <tr>\n",
       "      <th>109</th>\n",
       "      <td>2019-06-18</td>\n",
       "      <td>24.768</td>\n",
       "      <td>24.388</td>\n",
       "      <td>24.798</td>\n",
       "      <td>24.088</td>\n",
       "      <td>219162.0</td>\n",
       "      <td>000002</td>\n",
       "      <td>24.562</td>\n",
       "      <td>24.284</td>\n",
       "    </tr>\n",
       "    <tr>\n",
       "      <th>110</th>\n",
       "      <td>2019-06-19</td>\n",
       "      <td>24.888</td>\n",
       "      <td>24.418</td>\n",
       "      <td>25.068</td>\n",
       "      <td>24.278</td>\n",
       "      <td>390157.0</td>\n",
       "      <td>000002</td>\n",
       "      <td>24.508</td>\n",
       "      <td>24.427</td>\n",
       "    </tr>\n",
       "    <tr>\n",
       "      <th>111</th>\n",
       "      <td>2019-06-20</td>\n",
       "      <td>24.388</td>\n",
       "      <td>25.138</td>\n",
       "      <td>25.138</td>\n",
       "      <td>24.318</td>\n",
       "      <td>577484.0</td>\n",
       "      <td>000002</td>\n",
       "      <td>24.632</td>\n",
       "      <td>24.569</td>\n",
       "    </tr>\n",
       "    <tr>\n",
       "      <th>112</th>\n",
       "      <td>2019-06-21</td>\n",
       "      <td>25.088</td>\n",
       "      <td>24.998</td>\n",
       "      <td>25.208</td>\n",
       "      <td>24.808</td>\n",
       "      <td>492537.0</td>\n",
       "      <td>000002</td>\n",
       "      <td>24.708</td>\n",
       "      <td>24.688</td>\n",
       "    </tr>\n",
       "    <tr>\n",
       "      <th>113</th>\n",
       "      <td>2019-06-24</td>\n",
       "      <td>24.808</td>\n",
       "      <td>24.818</td>\n",
       "      <td>24.938</td>\n",
       "      <td>24.718</td>\n",
       "      <td>270128.0</td>\n",
       "      <td>000002</td>\n",
       "      <td>24.752</td>\n",
       "      <td>24.720</td>\n",
       "    </tr>\n",
       "  </tbody>\n",
       "</table>\n",
       "</div>"
      ],
      "text/plain": [
       "           date    open   close    high     low    volume    code     MA5  \\\n",
       "99   2019-06-03  23.498  23.128  23.708  22.968  317567.0  000002     NaN   \n",
       "100  2019-06-04  23.158  22.988  23.228  22.938  203260.0  000002     NaN   \n",
       "101  2019-06-05  23.328  23.718  23.968  23.318  576164.0  000002     NaN   \n",
       "102  2019-06-06  23.698  23.808  23.978  23.608  333792.0  000002     NaN   \n",
       "103  2019-06-10  23.978  24.498  24.738  23.858  527547.0  000002  23.628   \n",
       "104  2019-06-11  24.558  25.018  25.138  24.538  449630.0  000002  24.006   \n",
       "105  2019-06-12  24.928  24.688  24.978  24.498  269372.0  000002  24.346   \n",
       "106  2019-06-13  24.688  24.518  24.738  24.268  250431.0  000002  24.506   \n",
       "107  2019-06-14  24.698  24.618  24.978  24.468  311417.0  000002  24.668   \n",
       "108  2019-06-17  24.488  24.598  24.888  24.438  171672.0  000002  24.688   \n",
       "109  2019-06-18  24.768  24.388  24.798  24.088  219162.0  000002  24.562   \n",
       "110  2019-06-19  24.888  24.418  25.068  24.278  390157.0  000002  24.508   \n",
       "111  2019-06-20  24.388  25.138  25.138  24.318  577484.0  000002  24.632   \n",
       "112  2019-06-21  25.088  24.998  25.208  24.808  492537.0  000002  24.708   \n",
       "113  2019-06-24  24.808  24.818  24.938  24.718  270128.0  000002  24.752   \n",
       "\n",
       "       MA10  \n",
       "99      NaN  \n",
       "100     NaN  \n",
       "101     NaN  \n",
       "102     NaN  \n",
       "103     NaN  \n",
       "104     NaN  \n",
       "105     NaN  \n",
       "106     NaN  \n",
       "107     NaN  \n",
       "108  24.158  \n",
       "109  24.284  \n",
       "110  24.427  \n",
       "111  24.569  \n",
       "112  24.688  \n",
       "113  24.720  "
      ]
     },
     "execution_count": 10,
     "metadata": {},
     "output_type": "execute_result"
    }
   ],
   "source": [
    "df['MA5'] = df['close'].rolling(5).mean()\n",
    "df['MA10'] = df['close'].rolling(10).mean()\n",
    "\n",
    "df.head(15)"
   ]
  },
  {
   "cell_type": "code",
   "execution_count": 11,
   "id": "cf9ba76b",
   "metadata": {},
   "outputs": [
    {
     "data": {
      "image/png": "[encoded data removed]",
      "text/plain": [
       "<Figure size 1080x432 with 1 Axes>"
      ]
     },
     "metadata": {},
     "output_type": "display_data"
    }
   ],
   "source": [
    "plt.rcParams['font.sans-serif'] = ['SimHei']  # 用来正常显示中文标签\n",
    "\n",
    "fig, ax = plt.subplots(figsize=(15,6))\n",
    "\n",
    "mpf.candlestick_ochl(ax, df_arr, width=0.6, colorup='r', colordown='g', alpha=1.0) \n",
    "plt.plot(df_arr[:,0], df['MA5'])\n",
    "plt.plot(df_arr[:,0], df['MA10'])\n",
    "\n",
    "plt.grid(True)  # 绘制网格\n",
    "\n",
    "plt.title('万科A')\n",
    "plt.xlabel('日期')\n",
    "plt.ylabel('价格')\n",
    "\n",
    "ax.xaxis_date ()"
   ]
  },
  {
   "cell_type": "markdown",
   "id": "2f707f64",
   "metadata": {},
   "source": [
    "### 添加每日成交量柱形图"
   ]
  },
  {
   "cell_type": "code",
   "execution_count": 12,
   "id": "a17bab28",
   "metadata": {},
   "outputs": [
    {
     "data": {
      "image/png": "[encoded data removed]",
      "text/plain": [
       "<Figure size 1080x576 with 2 Axes>"
      ]
     },
     "metadata": {},
     "output_type": "display_data"
    }
   ],
   "source": [
    "#sharex=True：子图共用一个坐标轴\n",
    "fig, axes = plt.subplots(2, 1, sharex=True, figsize=(15,8))\n",
    "ax1, ax2 = axes.flatten()\n",
    "\n",
    "# 绘制第一张子图：K线图和均线图\n",
    "mpf.candlestick_ochl(ax1, df_arr, width=0.6, colorup = 'r', colordown = 'g', alpha=1.0)\n",
    "\n",
    "ax1.plot(df_arr[:,0], df['MA5'])  # 绘制5日均线\n",
    "ax1.plot(df_arr[:,0], df['MA10'])  # 绘制10日均线\n",
    "\n",
    "ax1.set_title('万科A')  # 设置子图标题\n",
    "ax1.set_ylabel('价格')  # 设置子图Y轴标签\n",
    "ax1.grid(True)\n",
    "ax1.xaxis_date()\n",
    "\n",
    "# 绘制第二张子图：成交量图\n",
    "ax2.bar(df_arr[:,0], df_arr[:,5])  # 绘制成交量柱状图\n",
    "ax2.set_xlabel('日期')  # 设置子图X轴标签\n",
    "ax2.set_ylabel('成交量')  # 设置子图Y轴标签\n",
    "ax2.grid(True)\n",
    "ax2.xaxis_date()"
   ]
  },
  {
   "cell_type": "code",
   "execution_count": null,
   "id": "9a5f879d",
   "metadata": {},
   "outputs": [],
   "source": []
  }
 ],
 "metadata": {
  "kernelspec": {
   "display_name": "Python [conda env:shangyeanlishizhan]",
   "language": "python",
   "name": "conda-env-shangyeanlishizhan-py"
  },
  "language_info": {
   "codemirror_mode": {
    "name": "ipython",
    "version": 3
   },
   "file_extension": ".py",
   "mimetype": "text/x-python",
   "name": "python",
   "nbconvert_exporter": "python",
   "pygments_lexer": "ipython3",
   "version": "3.7.13"
  }
 },
 "nbformat": 4,
 "nbformat_minor": 5
}

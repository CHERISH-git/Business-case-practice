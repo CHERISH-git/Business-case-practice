{
 "cells": [
  {
   "cell_type": "markdown",
   "id": "3caa3ff0",
   "metadata": {},
   "source": [
    "# 随机森林模型遵循数据随机和特征随机两个基本原则"
   ]
  },
  {
   "cell_type": "markdown",
   "id": "da55cc27",
   "metadata": {},
   "source": [
    "### 随机森林分类模型"
   ]
  },
  {
   "cell_type": "code",
   "execution_count": 1,
   "id": "49eb7563",
   "metadata": {},
   "outputs": [
    {
     "name": "stdout",
     "output_type": "stream",
     "text": [
      "[0]\n"
     ]
    }
   ],
   "source": [
    "from sklearn.ensemble import RandomForestClassifier\n",
    "X = [[1, 2], [3, 4], [5, 6], [7, 8], [9, 10]]\n",
    "y = [0, 0, 0, 1, 1]\n",
    "\n",
    "model = RandomForestClassifier(n_estimators=10, random_state=123)\n",
    "model.fit(X, y)\n",
    "\n",
    "print(model.predict([[5, 5]]))"
   ]
  },
  {
   "cell_type": "markdown",
   "id": "3b8392ea",
   "metadata": {},
   "source": [
    "### 随机森林回归模型"
   ]
  },
  {
   "cell_type": "code",
   "execution_count": 2,
   "id": "923327d5",
   "metadata": {},
   "outputs": [
    {
     "name": "stdout",
     "output_type": "stream",
     "text": [
      "[2.8]\n"
     ]
    }
   ],
   "source": [
    "from sklearn.ensemble import RandomForestRegressor\n",
    "X = [[1, 2], [3, 4], [5, 6], [7, 8], [9, 10]]\n",
    "y = [1, 2, 3, 4, 5]\n",
    "\n",
    "model = RandomForestRegressor(n_estimators=10, random_state=123)\n",
    "model.fit(X, y)\n",
    "\n",
    "print(model.predict([[5, 5]]))"
   ]
  },
  {
   "cell_type": "code",
   "execution_count": null,
   "id": "f3528c07",
   "metadata": {},
   "outputs": [],
   "source": []
  }
 ],
 "metadata": {
  "kernelspec": {
   "display_name": "Python [conda env:shangyeanlishizhan]",
   "language": "python",
   "name": "conda-env-shangyeanlishizhan-py"
  },
  "language_info": {
   "codemirror_mode": {
    "name": "ipython",
    "version": 3
   },
   "file_extension": ".py",
   "mimetype": "text/x-python",
   "name": "python",
   "nbconvert_exporter": "python",
   "pygments_lexer": "ipython3",
   "version": "3.7.13"
  }
 },
 "nbformat": 4,
 "nbformat_minor": 5
}
